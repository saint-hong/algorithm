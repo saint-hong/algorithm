{
 "cells": [
  {
   "cell_type": "markdown",
   "metadata": {},
   "source": [
    "# 1. Linked List (연결리스트)\n",
    "## 1) 연결리스트란?\n",
    "- 알고리즘의 기본구조이며, 많이 쓰인다.\n",
    "- 알고리즘에서 사용하는 데이터와, 다음 노드를 가리키는 링크를 묶어서 노드로 정의함.\n",
    "- 노드(Node) : 클래스에서 멤버변수로 정의하여 사용한다. \n",
    "    ```\n",
    "    class Node :\n",
    "        def __init__(self, data, next=None) :\n",
    "            self.data = data\n",
    "            self.next = next\n",
    "    ```\n",
    "- 링크(Link) : 노드가 다음 노드를 가리키는데 필요한 연결 정보\n",
    "    ```\n",
    "    node_A = Node(\"A\")\n",
    "    node_B = Node(\"B\")\n",
    "    node_A = node_B\n",
    "    ```\n",
    "## 2) 특징\n",
    "- 연결리스트는 각각의 노드가 링크로 연결되어 있다.\n",
    "- 연결리스트는 동적으로 메모리를 할당한다.\n",
    "- 따라서 연결리스트의 중간에 어떤 데이터값의 노드를 연결시키거나 해제하여 삽입과 삭제가 간단하다. \n",
    "- 배열(Array)와 비교하여 3가지의 특징이 있다.\n",
    "    - 시간의 효율성 : 삽입과 삭제에 필요한 위치검색과 삽입과정이 배열에 비해서 빠르다. 배열은 중간 데이터를 삭제하면 뒤의 데이터를 일일이\n",
    "                     앞으로 당겨줘야 하지만, 연결리스트는 중간의 링크를 끊고 다시 연결해주기만 하면 된다. \n",
    "    - 공간의 효율성 : 배열은 프로그램의 실행 중에 데이터를 변경시키지 못하지만, 연결리스트는 동적으로 메모리를 할당할 수 있어서 가능하다.\n",
    "    - 코드의 효율성 : 연결리스트는 포인터와 구조체로 되어 있어 배열의 인덱스 기능보다 상대적으로 코드가 복잡하게 보인다."
   ]
  },
  {
   "cell_type": "markdown",
   "metadata": {},
   "source": [
    "## 3) 연결리스트의 삽입과 삭제 알고리즘"
   ]
  },
  {
   "cell_type": "markdown",
   "metadata": {},
   "source": [
    "### * 연결리스트 예시"
   ]
  },
  {
   "cell_type": "code",
   "execution_count": 1,
   "metadata": {},
   "outputs": [],
   "source": [
    "class Node :\n",
    "    def __init__(self, data, next=None) :\n",
    "        \n",
    "        ### Node는 data와 next 멤버변수를 갖는다. data에는 data정보가 next에는 link정보가 저장된다.\n",
    "        self.data = data\n",
    "        self.next = next\n",
    "\n",
    "def init_list() :\n",
    "    global node_A\n",
    "    \n",
    "    ### node_A ~ node_D 까지 클래스를 호출하여 선언한다. \n",
    "    node_A = Node(\"A\")\n",
    "    node_B = Node(\"B\")\n",
    "    node_C = Node(\"C\")\n",
    "    node_D = Node(\"D\")\n",
    "    \n",
    "    ### 각각 노드의 next 변수에 다음 노드를 연결시킨다.\n",
    "    node_A.next = node_B\n",
    "    node_B.next = node_C\n",
    "    node_C.next = node_D\n",
    "    \n",
    "def print_list() :\n",
    "    global node_A\n",
    "    node = node_A\n",
    "    while node :\n",
    "        print(node.data)\n",
    "        node = node.next # node_A.next = node_B\n",
    "    print"
   ]
  },
  {
   "cell_type": "code",
   "execution_count": 2,
   "metadata": {},
   "outputs": [
    {
     "name": "stdout",
     "output_type": "stream",
     "text": [
      "A\n",
      "B\n",
      "C\n",
      "D\n"
     ]
    }
   ],
   "source": [
    "### data 값이 순차적으로 출력된다.\n",
    "init_list()\n",
    "print_list()"
   ]
  },
  {
   "cell_type": "markdown",
   "metadata": {},
   "source": [
    "### * 연결리스트의 삽입 알고리즘"
   ]
  },
  {
   "cell_type": "code",
   "execution_count": 2,
   "metadata": {},
   "outputs": [],
   "source": [
    "class Node :\n",
    "    def __init__(self, data, next=None) :\n",
    "        self.data = data\n",
    "        self.next = next\n",
    "\n",
    "def init_list() :\n",
    "    global node_A\n",
    "    node_A = Node(\"A\")\n",
    "    node_B = Node(\"B\")\n",
    "    node_D = Node(\"D\")\n",
    "    node_E = Node(\"E\")\n",
    "    node_A.next = node_B\n",
    "    node_B.next = node_D\n",
    "    node_D.next = node_E\n",
    "    \n",
    "def print_list() :\n",
    "    global node_A\n",
    "    node = node_A\n",
    "    while node :\n",
    "        print(node.data)\n",
    "        node = node.next # node_A.next = node_B\n",
    "    print\n",
    "\n",
    "### 연결리스트 중간에 데이터를 삽입하는 알고리즘   \n",
    "def insert_node(data) :\n",
    "    global node_A\n",
    "    new_node = Node(data) ### data = \"C\" 삽입\n",
    "    node_P = node_A\n",
    "    node_T = node_A\n",
    "    \n",
    "    while node_T.data <= data :   ### node_T.data = \"A\", data = \"C\"\n",
    "        node_P = node_T           ### node_P = node_B\n",
    "        node_T = node_T.next      ### node_T.next = node_B\n",
    "        \n",
    "    ### node_T.data = \"D\" 이면 아래 코드가 실행되어, new_node.next 가 node_D 가된다.\n",
    "    ### node_P.next = node_C 가 되므로, node_A -> node_B -> node_C -> node_D 가 된다.    \n",
    "    new_node.next = node_T        ### node_T.data 가 D 이면 실행된다. new_node.data = \"C\", new_node.next = node_T = node_T\n",
    "    node_P.next = new_node        ### node_P.next = node_C "
   ]
  },
  {
   "cell_type": "code",
   "execution_count": 3,
   "metadata": {},
   "outputs": [
    {
     "name": "stdout",
     "output_type": "stream",
     "text": [
      "연결 리스트의 초기화 후\n",
      "A\n",
      "B\n",
      "D\n",
      "E\n",
      "노드 C를 추가한 후\n",
      "A\n",
      "B\n",
      "C\n",
      "D\n",
      "E\n"
     ]
    }
   ],
   "source": [
    "print(\"연결 리스트의 초기화 후\")\n",
    "init_list()\n",
    "print_list()\n",
    "print(\"노드 C를 추가한 후\")\n",
    "insert_node(\"C\")\n",
    "print_list()"
   ]
  },
  {
   "cell_type": "markdown",
   "metadata": {},
   "source": [
    "### * 연결리스트의 삭제 알고리즘"
   ]
  },
  {
   "cell_type": "code",
   "execution_count": 4,
   "metadata": {},
   "outputs": [],
   "source": [
    "def delete_node(del_data) :\n",
    "    global node_A\n",
    "    pre_node = node_A\n",
    "    next_node = pre_node.next                 ### pre_node.next = node_B\n",
    "    \n",
    "    ### pre_node.data = \"A\", del_data = \"A\" 일 경우 이 조건문이 실행된다.\n",
    "    if pre_node.data == del_data :     \n",
    "        node_A = next_node\n",
    "        del pre_node\n",
    "        print(\"delete_1\")\n",
    "        return\n",
    "    \n",
    "    ### next_node = node_B, del_data 가 A 가 아닌 경우 이 반복문이 실행된다.\n",
    "    while next_node :  \n",
    "        if next_node.data == del_data :        ### \"B\", \"D\"\n",
    "            pre_node.next = next_node.next     ### del_data 가 \"C\" 이면, pre_node.next (pre_nede = node_B) 가 node_D 를 링크하게 된다.\n",
    "            del next_node\n",
    "            print(\"delete_2\")\n",
    "            break\n",
    "        pre_node = next_node                   ### pre_node = node_B\n",
    "        next_node = next_node.next             ### noext_node = node_C"
   ]
  },
  {
   "cell_type": "code",
   "execution_count": 5,
   "metadata": {},
   "outputs": [
    {
     "name": "stdout",
     "output_type": "stream",
     "text": [
      "연결리스트 초기화\n",
      "A\n",
      "B\n",
      "D\n",
      "E\n",
      "노드 C를 추가한 후\n",
      "A\n",
      "B\n",
      "C\n",
      "D\n",
      "E\n",
      "노드 D를 삭제한 후\n",
      "delete_2\n",
      "A\n",
      "C\n",
      "D\n",
      "E\n"
     ]
    }
   ],
   "source": [
    "print(\"연결리스트 초기화\")\n",
    "init_list() ### 연결리스트 초기화\n",
    "print_list()\n",
    "print(\"노드 C를 추가한 후\")\n",
    "insert_node(\"C\")\n",
    "print_list()\n",
    "print(\"노드 D를 삭제한 후\")\n",
    "delete_node(\"B\")\n",
    "print_list()"
   ]
  }
 ],
 "metadata": {
  "kernelspec": {
   "display_name": "Python 3",
   "language": "python",
   "name": "python3"
  },
  "language_info": {
   "codemirror_mode": {
    "name": "ipython",
    "version": 3
   },
   "file_extension": ".py",
   "mimetype": "text/x-python",
   "name": "python",
   "nbconvert_exporter": "python",
   "pygments_lexer": "ipython3",
   "version": "3.7.4"
  }
 },
 "nbformat": 4,
 "nbformat_minor": 2
}
